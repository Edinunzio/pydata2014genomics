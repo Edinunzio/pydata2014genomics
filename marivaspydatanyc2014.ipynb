{
 "metadata": {
  "celltoolbar": "Slideshow",
  "name": "",
  "signature": "sha256:59098c9c6f8cb0d4967eabd731eb08a32eadcc77f70d08ef5255c103f2ee5a0e"
 },
 "nbformat": 3,
 "nbformat_minor": 0,
 "worksheets": [
  {
   "cells": [
    {
     "cell_type": "heading",
     "level": 3,
     "metadata": {
      "slideshow": {
       "slide_type": "slide"
      }
     },
     "source": [
      "Python for Personal and Population Genome Interpretation\n",
      "Manuel A. Rivas (marivascruz)\n",
      "University of OXford \n"
     ]
    },
    {
     "cell_type": "code",
     "collapsed": false,
     "input": [],
     "language": "python",
     "metadata": {},
     "outputs": []
    }
   ],
   "metadata": {}
  }
 ]
}